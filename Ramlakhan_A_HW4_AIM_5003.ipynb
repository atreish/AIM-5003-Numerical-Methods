{
 "cells": [
  {
   "cell_type": "code",
   "execution_count": 1,
   "metadata": {},
   "outputs": [],
   "source": [
    "import math \n",
    "import numpy as np\n",
    "import pandas as pd \n",
    "from scipy.linalg import schur, eigvals"
   ]
  },
  {
   "cell_type": "markdown",
   "metadata": {},
   "source": [
    "# 12.2.1"
   ]
  },
  {
   "cell_type": "code",
   "execution_count": 2,
   "metadata": {},
   "outputs": [],
   "source": [
    "def shiftedqr(a):\n",
    "    tol = 1.e-14\n",
    "    kounttol = 500L\n",
    "    m = a.shape[0]\n",
    "    n = m-1\n",
    "    lam = np.zeros((m,1), dtype=complex)\n",
    "    \n",
    "    while n>0:\n",
    "        kount = 0\n",
    "        while max(abs(a[n,0:n])) > tol and kount < kounttol:\n",
    "            kount = kount+1     # keep track of number of qr’s\n",
    "            mu = a[n,n]         # shift is mu\n",
    "            q,r = np.linalg.qr( a - mu*np.eye(n+1))\n",
    "            a= np.dot(r, q) + mu*np.eye(n+1)\n",
    "    \n",
    "        if kount < kounttol:  \n",
    "            lam[n]=a[n,n] \n",
    "            n -= 1\n",
    "            a = a[:n+1,:n+1] \n",
    "\n",
    "        else: #have isolated 2x2 block\n",
    "            disc = complex(( a[-2,-2] - a[-1,-1] )**2 + 4*a[-1,-2]*a[-2,-1])\n",
    "            lam[n]=( a[-2,-2] + a[-1,-1] + np.sqrt(disc))/2\n",
    "            lam[n-1]=( a[-2,-2] + a[-1,-1] - np.sqrt(disc))/2\n",
    "            n -= 2\n",
    "            a = a[:n+1,:n+1] \n",
    "            \n",
    "    if n==0: \n",
    "        lam[0] = a[0,0] # only a 1x1 block remains\n",
    "    return lam"
   ]
  },
  {
   "cell_type": "code",
   "execution_count": 3,
   "metadata": {},
   "outputs": [],
   "source": [
    "def ShurEvalues(A):\n",
    "    T, Z = schur(A)\n",
    "    SchurEvalues = T.diagonal()\n",
    "    Evalues = shiftedqr(A)\n",
    "     \n",
    "    print('The Original Matrix is:\\n\\n',A,'\\n')\n",
    "    print('Upper Triangular Form of Schur Decomposition is:\\n\\n', T,'\\n')\n",
    "    print('The Unitary Matrix Form of Schur Decomposition is:\\n\\n',Z, '\\n')\n",
    "    print('The Python Numpy Schur Decomposition Eigenvalues are:\\n\\n', SchurEvalues, '\\n')\n",
    "    print('The Shifted QR Algorithm Eigenvalues are:\\n\\n', Evalues, '\\n')\n",
    "    return  "
   ]
  },
  {
   "cell_type": "code",
   "execution_count": 4,
   "metadata": {},
   "outputs": [
    {
     "name": "stdout",
     "output_type": "stream",
     "text": [
      "The Original Matrix is:\n",
      "\n",
      " [[-3  3  5]\n",
      " [ 1 -5 -5]\n",
      " [ 6  6  4]] \n",
      "\n",
      "Upper Triangular Form of Schur Decomposition is:\n",
      "\n",
      " [[ 4.         -7.07106781  8.08290377]\n",
      " [ 0.         -6.         -3.26598632]\n",
      " [ 0.          0.         -2.        ]] \n",
      "\n",
      "The Unitary Matrix Form of Schur Decomposition is:\n",
      "\n",
      " [[-4.08248290e-01 -5.77350269e-01 -7.07106781e-01]\n",
      " [ 4.08248290e-01  5.77350269e-01 -7.07106781e-01]\n",
      " [-8.16496581e-01  5.77350269e-01 -2.11265980e-16]] \n",
      "\n",
      "The Python Numpy Schur Decomposition Eigenvalues are:\n",
      "\n",
      " [ 4. -6. -2.] \n",
      "\n",
      "The Shifted QR Algorithm Eigenvalues are:\n",
      "\n",
      " [[-6.+0.j]\n",
      " [-2.+0.j]\n",
      " [ 4.+0.j]] \n",
      "\n"
     ]
    }
   ],
   "source": [
    "A = np.array([[-3, 3, 5], [1, -5, -5], [6, 6, 4]])\n",
    "ShurEvalues(A)"
   ]
  },
  {
   "cell_type": "code",
   "execution_count": 5,
   "metadata": {},
   "outputs": [
    {
     "name": "stdout",
     "output_type": "stream",
     "text": [
      "The Original Matrix is:\n",
      "\n",
      " [[ 3  1  2]\n",
      " [ 1  3 -2]\n",
      " [ 2  2  6]] \n",
      "\n",
      "Upper Triangular Form of Schur Decomposition is:\n",
      "\n",
      " [[ 2.00000000e+00 -2.82842712e+00  3.04522188e-15]\n",
      " [ 0.00000000e+00  6.00000000e+00  2.82842712e+00]\n",
      " [ 0.00000000e+00  0.00000000e+00  4.00000000e+00]] \n",
      "\n",
      "The Unitary Matrix Form of Schur Decomposition is:\n",
      "\n",
      " [[ 7.07106781e-01 -6.64778378e-16 -7.07106781e-01]\n",
      " [-7.07106781e-01 -3.92630972e-16 -7.07106781e-01]\n",
      " [ 7.86274655e-17 -1.00000000e+00  8.60040359e-16]] \n",
      "\n",
      "The Python Numpy Schur Decomposition Eigenvalues are:\n",
      "\n",
      " [2. 6. 4.] \n",
      "\n",
      "The Shifted QR Algorithm Eigenvalues are:\n",
      "\n",
      " [[2.+0.j]\n",
      " [4.+0.j]\n",
      " [6.+0.j]] \n",
      "\n"
     ]
    }
   ],
   "source": [
    "B = np.array([[3, 1, 2], [1, 3, -2], [2, 2, 6]])\n",
    "ShurEvalues(B)"
   ]
  },
  {
   "cell_type": "code",
   "execution_count": 6,
   "metadata": {},
   "outputs": [
    {
     "name": "stdout",
     "output_type": "stream",
     "text": [
      "The Original Matrix is:\n",
      "\n",
      " [[17  1  2]\n",
      " [ 1 17 -2]\n",
      " [ 2  2 20]] \n",
      "\n",
      "Upper Triangular Form of Schur Decomposition is:\n",
      "\n",
      " [[ 1.60000000e+01 -2.82842712e+00  1.71675698e-15]\n",
      " [ 0.00000000e+00  2.00000000e+01  2.82842712e+00]\n",
      " [ 0.00000000e+00  0.00000000e+00  1.80000000e+01]] \n",
      "\n",
      "The Unitary Matrix Form of Schur Decomposition is:\n",
      "\n",
      " [[ 7.07106781e-01  4.06690548e-17 -7.07106781e-01]\n",
      " [-7.07106781e-01 -9.38886511e-16 -7.07106781e-01]\n",
      " [ 8.32447327e-16 -1.00000000e+00  6.84940685e-16]] \n",
      "\n",
      "The Python Numpy Schur Decomposition Eigenvalues are:\n",
      "\n",
      " [16. 20. 18.] \n",
      "\n",
      "The Shifted QR Algorithm Eigenvalues are:\n",
      "\n",
      " [[16.+0.j]\n",
      " [18.+0.j]\n",
      " [20.+0.j]] \n",
      "\n"
     ]
    }
   ],
   "source": [
    "C = np.array([[17, 1, 2], [1, 17, -2], [2, 2, 20]])\n",
    "ShurEvalues(C)"
   ]
  },
  {
   "cell_type": "code",
   "execution_count": 7,
   "metadata": {},
   "outputs": [
    {
     "name": "stdout",
     "output_type": "stream",
     "text": [
      "The Original Matrix is:\n",
      "\n",
      " [[-7 -8  1]\n",
      " [17 18 -1]\n",
      " [-8 -8  2]] \n",
      "\n",
      "Upper Triangular Form of Schur Decomposition is:\n",
      "\n",
      " [[ 1.00000000e+01  1.55884573e+01  2.26274170e+01]\n",
      " [ 0.00000000e+00  1.00000000e+00 -5.87707683e-15]\n",
      " [ 0.00000000e+00  0.00000000e+00  2.00000000e+00]] \n",
      "\n",
      "The Unitary Matrix Form of Schur Decomposition is:\n",
      "\n",
      " [[-4.08248290e-01  7.07106781e-01  5.77350269e-01]\n",
      " [ 8.16496581e-01 -1.14613315e-15  5.77350269e-01]\n",
      " [-4.08248290e-01 -7.07106781e-01  5.77350269e-01]] \n",
      "\n",
      "The Python Numpy Schur Decomposition Eigenvalues are:\n",
      "\n",
      " [10.  1.  2.] \n",
      "\n",
      "The Shifted QR Algorithm Eigenvalues are:\n",
      "\n",
      " [[10.+0.j]\n",
      " [ 1.+0.j]\n",
      " [ 2.+0.j]] \n",
      "\n"
     ]
    }
   ],
   "source": [
    "D = np.array([[-7, -8, 1], [17, 18, -1], [-8, -8, 2]])\n",
    "ShurEvalues(D)"
   ]
  },
  {
   "cell_type": "markdown",
   "metadata": {},
   "source": [
    "# 12.2.2"
   ]
  },
  {
   "cell_type": "code",
   "execution_count": 8,
   "metadata": {},
   "outputs": [
    {
     "name": "stdout",
     "output_type": "stream",
     "text": [
      "The Original Matrix is:\n",
      "\n",
      " [[-1  1  3]\n",
      " [ 3  3 -2]\n",
      " [-5  2  7]] \n",
      "\n",
      "Upper Triangular Form of Schur Decomposition is:\n",
      "\n",
      " [[ 3.00001088e+00  5.71538135e+00 -6.98304696e+00]\n",
      " [-6.20822803e-11  3.00001088e+00  1.60358074e+00]\n",
      " [ 0.00000000e+00  0.00000000e+00  2.99997825e+00]] \n",
      "\n",
      "The Unitary Matrix Form of Schur Decomposition is:\n",
      "\n",
      " [[ 0.53452207 -0.21820783  0.81649954]\n",
      " [-0.26725958  0.87287761  0.40823645]\n",
      " [ 0.80178456  0.43642872 -0.40825421]] \n",
      "\n",
      "The Python Numpy Schur Decomposition Eigenvalues are:\n",
      "\n",
      " [3.00001088 3.00001088 2.99997825] \n",
      "\n",
      "The Shifted QR Algorithm Eigenvalues are:\n",
      "\n",
      " [[2.99997556+0.00000000e+00j]\n",
      " [3.00001222-1.56707604e-05j]\n",
      " [3.00001222+1.56707604e-05j]] \n",
      "\n"
     ]
    }
   ],
   "source": [
    "E = np.array([[-1, 1, 3], [3, 3, -2], [-5, 2, 7]])\n",
    "ShurEvalues(E)"
   ]
  },
  {
   "cell_type": "code",
   "execution_count": 9,
   "metadata": {},
   "outputs": [
    {
     "name": "stdout",
     "output_type": "stream",
     "text": [
      "The Original Matrix is:\n",
      "\n",
      " [[  7 -33 -15]\n",
      " [  2  26   7]\n",
      " [ -4 -50 -13]] \n",
      "\n",
      "Upper Triangular Form of Schur Decomposition is:\n",
      "\n",
      " [[ 10.           5.81377674 -66.82215202]\n",
      " [  0.           9.           9.79795897]\n",
      " [  0.           0.           1.        ]] \n",
      "\n",
      "The Unitary Matrix Form of Schur Decomposition is:\n",
      "\n",
      " [[ 4.08248290e-01 -9.12870929e-01 -6.02477509e-17]\n",
      " [-4.08248290e-01 -1.82574186e-01  8.94427191e-01]\n",
      " [ 8.16496581e-01  3.65148372e-01  4.47213595e-01]] \n",
      "\n",
      "The Python Numpy Schur Decomposition Eigenvalues are:\n",
      "\n",
      " [10.  9.  1.] \n",
      "\n",
      "The Shifted QR Algorithm Eigenvalues are:\n",
      "\n",
      " [[10.+0.j]\n",
      " [ 9.+0.j]\n",
      " [ 1.+0.j]] \n",
      "\n"
     ]
    }
   ],
   "source": [
    "F = np.array([[7, -33, -15], [2, 26, 7], [-4, -50, -13]])\n",
    "ShurEvalues(F)"
   ]
  },
  {
   "cell_type": "code",
   "execution_count": 10,
   "metadata": {},
   "outputs": [
    {
     "name": "stdout",
     "output_type": "stream",
     "text": [
      "The Original Matrix is:\n",
      "\n",
      " [[ 8  0  5]\n",
      " [-5  3 -5]\n",
      " [10  0 13]] \n",
      "\n",
      "Upper Triangular Form of Schur Decomposition is:\n",
      "\n",
      " [[ 3.          0.          7.07106781]\n",
      " [ 0.          3.         -5.        ]\n",
      " [ 0.          0.         18.        ]] \n",
      "\n",
      "The Unitary Matrix Form of Schur Decomposition is:\n",
      "\n",
      " [[ 0.         -0.70710678 -0.70710678]\n",
      " [ 1.          0.          0.        ]\n",
      " [ 0.          0.70710678 -0.70710678]] \n",
      "\n",
      "The Python Numpy Schur Decomposition Eigenvalues are:\n",
      "\n",
      " [ 3.  3. 18.] \n",
      "\n",
      "The Shifted QR Algorithm Eigenvalues are:\n",
      "\n",
      " [[ 3.+0.j]\n",
      " [ 3.+0.j]\n",
      " [18.+0.j]] \n",
      "\n"
     ]
    }
   ],
   "source": [
    "G = np.array([[8, 0, 5], [-5, 3, -5], [10, 0, 13]])\n",
    "ShurEvalues(G)"
   ]
  },
  {
   "cell_type": "code",
   "execution_count": 11,
   "metadata": {},
   "outputs": [
    {
     "name": "stdout",
     "output_type": "stream",
     "text": [
      "The Original Matrix is:\n",
      "\n",
      " [[-3 -1  1]\n",
      " [ 5  3 -1]\n",
      " [-2  2  0]] \n",
      "\n",
      "Upper Triangular Form of Schur Decomposition is:\n",
      "\n",
      " [[-1.          3.34606521 -2.75820506]\n",
      " [-0.89657547 -1.          5.328443  ]\n",
      " [ 0.          0.          2.        ]] \n",
      "\n",
      "The Unitary Matrix Form of Schur Decomposition is:\n",
      "\n",
      " [[ 3.25057584e-01 -6.27963030e-01  7.07106781e-01]\n",
      " [-3.25057584e-01  6.27963030e-01  7.07106781e-01]\n",
      " [ 8.88073834e-01  4.59700843e-01  8.01919170e-17]] \n",
      "\n",
      "The Python Numpy Schur Decomposition Eigenvalues are:\n",
      "\n",
      " [-1. -1.  2.] \n",
      "\n",
      "The Shifted QR Algorithm Eigenvalues are:\n",
      "\n",
      " [[ 2.+0.j        ]\n",
      " [-1.-1.73205081j]\n",
      " [-1.+1.73205081j]] \n",
      "\n"
     ]
    }
   ],
   "source": [
    "H = np.array([[-3, -1, 1], [5, 3, -1], [-2, 2, 0]])\n",
    "ShurEvalues(H)"
   ]
  },
  {
   "cell_type": "markdown",
   "metadata": {},
   "source": [
    "# 12.2.5"
   ]
  },
  {
   "cell_type": "code",
   "execution_count": 12,
   "metadata": {},
   "outputs": [
    {
     "name": "stdout",
     "output_type": "stream",
     "text": [
      "The Original Matrix is:\n",
      "\n",
      " [[ 4  3  1]\n",
      " [-5 -3  0]\n",
      " [ 3  2  1]] \n",
      "\n",
      "Upper Triangular Form of Schur Decomposition is:\n",
      "\n",
      " [[ 3.40005801e-16 -4.39106708e+00 -7.11790997e+00]\n",
      " [ 2.27735077e-01  3.40005801e-16 -4.49930259e-02]\n",
      " [ 0.00000000e+00  0.00000000e+00  2.00000000e+00]] \n",
      "\n",
      "The Unitary Matrix Form of Schur Decomposition is:\n",
      "\n",
      " [[-0.49079864  0.65252078  0.57735027]\n",
      " [ 0.81049889  0.0987837   0.57735027]\n",
      " [-0.31970025 -0.75130448  0.57735027]] \n",
      "\n",
      "The Python Numpy Schur Decomposition Eigenvalues are:\n",
      "\n",
      " [3.40005801e-16 3.40005801e-16 2.00000000e+00] \n",
      "\n",
      "The Shifted QR Algorithm Eigenvalues are:\n",
      "\n",
      " [[8.8817842e-15-1.j]\n",
      " [8.8817842e-15+1.j]\n",
      " [2.0000000e+00+0.j]] \n",
      "\n"
     ]
    }
   ],
   "source": [
    "I = np.array([[4, 3, 1], [-5, -3, 0], [3, 2, 1]])\n",
    "ShurEvalues(I)"
   ]
  },
  {
   "cell_type": "code",
   "execution_count": 13,
   "metadata": {},
   "outputs": [
    {
     "name": "stdout",
     "output_type": "stream",
     "text": [
      "The Original Matrix is:\n",
      "\n",
      " [[ 3  2  0]\n",
      " [-4 -2  1]\n",
      " [ 2  1  0]] \n",
      "\n",
      "Upper Triangular Form of Schur Decomposition is:\n",
      "\n",
      " [[-5.16947596e-16 -4.39106708e+00  4.31025946e+00]\n",
      " [ 2.27735077e-01 -5.16947596e-16 -2.97203740e-01]\n",
      " [ 0.00000000e+00  0.00000000e+00  1.00000000e+00]] \n",
      "\n",
      "The Unitary Matrix Form of Schur Decomposition is:\n",
      "\n",
      " [[ 0.49079864 -0.65252078  0.57735027]\n",
      " [-0.81049889 -0.0987837   0.57735027]\n",
      " [ 0.31970025  0.75130448  0.57735027]] \n",
      "\n",
      "The Python Numpy Schur Decomposition Eigenvalues are:\n",
      "\n",
      " [-5.16947596e-16 -5.16947596e-16  1.00000000e+00] \n",
      "\n",
      "The Shifted QR Algorithm Eigenvalues are:\n",
      "\n",
      " [[-3.71924713e-15-1.j]\n",
      " [-3.71924713e-15+1.j]\n",
      " [ 1.00000000e+00+0.j]] \n",
      "\n"
     ]
    }
   ],
   "source": [
    "J = np.array([[3, 2, 0], [-4, -2, 1], [2, 1, 0]])\n",
    "ShurEvalues(J)"
   ]
  },
  {
   "cell_type": "code",
   "execution_count": 14,
   "metadata": {},
   "outputs": [
    {
     "name": "stdout",
     "output_type": "stream",
     "text": [
      "The Original Matrix is:\n",
      "\n",
      " [[ 7  2 -4]\n",
      " [-8  0  7]\n",
      " [ 2 -1 -2]] \n",
      "\n",
      "Upper Triangular Form of Schur Decomposition is:\n",
      "\n",
      " [[  2.         -13.17320123   1.70017635]\n",
      " [  0.68320523   2.          -2.26039828]\n",
      " [  0.           0.           1.        ]] \n",
      "\n",
      "The Unitary Matrix Form of Schur Decomposition is:\n",
      "\n",
      " [[ 0.49079864 -0.65252078  0.57735027]\n",
      " [-0.81049889 -0.0987837   0.57735027]\n",
      " [ 0.31970025  0.75130448  0.57735027]] \n",
      "\n",
      "The Python Numpy Schur Decomposition Eigenvalues are:\n",
      "\n",
      " [2. 2. 1.] \n",
      "\n",
      "The Shifted QR Algorithm Eigenvalues are:\n",
      "\n",
      " [[2.-3.j]\n",
      " [2.+3.j]\n",
      " [1.+0.j]] \n",
      "\n"
     ]
    }
   ],
   "source": [
    "K = np.array([[7, 2, -4], [-8, 0, 7], [2, -1, -2]])\n",
    "ShurEvalues(K)"
   ]
  },
  {
   "cell_type": "code",
   "execution_count": 15,
   "metadata": {},
   "outputs": [
    {
     "name": "stdout",
     "output_type": "stream",
     "text": [
      "The Original Matrix is:\n",
      "\n",
      " [[ 11   4  -2]\n",
      " [-10   0   5]\n",
      " [  4   1   2]] \n",
      "\n",
      "Upper Triangular Form of Schur Decomposition is:\n",
      "\n",
      " [[  4.         -13.17320123   7.31547736]\n",
      " [  0.68320523   4.          -1.57600475]\n",
      " [  0.           0.           5.        ]] \n",
      "\n",
      "The Unitary Matrix Form of Schur Decomposition is:\n",
      "\n",
      " [[ 0.49079864 -0.65252078  0.57735027]\n",
      " [-0.81049889 -0.0987837   0.57735027]\n",
      " [ 0.31970025  0.75130448  0.57735027]] \n",
      "\n",
      "The Python Numpy Schur Decomposition Eigenvalues are:\n",
      "\n",
      " [4. 4. 5.] \n",
      "\n",
      "The Shifted QR Algorithm Eigenvalues are:\n",
      "\n",
      " [[4.-3.j]\n",
      " [4.+3.j]\n",
      " [5.+0.j]] \n",
      "\n"
     ]
    }
   ],
   "source": [
    "L = np.array([[11, 4, -2], [-10, 0, 5], [4, 1, 2]])\n",
    "ShurEvalues(L)"
   ]
  },
  {
   "cell_type": "code",
   "execution_count": null,
   "metadata": {},
   "outputs": [],
   "source": []
  },
  {
   "cell_type": "code",
   "execution_count": null,
   "metadata": {},
   "outputs": [],
   "source": []
  },
  {
   "cell_type": "code",
   "execution_count": null,
   "metadata": {},
   "outputs": [],
   "source": []
  },
  {
   "cell_type": "code",
   "execution_count": null,
   "metadata": {},
   "outputs": [],
   "source": []
  },
  {
   "cell_type": "code",
   "execution_count": null,
   "metadata": {},
   "outputs": [],
   "source": []
  },
  {
   "cell_type": "code",
   "execution_count": null,
   "metadata": {},
   "outputs": [],
   "source": []
  }
 ],
 "metadata": {
  "kernelspec": {
   "display_name": "Python 3",
   "language": "python",
   "name": "python3"
  },
  "language_info": {
   "codemirror_mode": {
    "name": "ipython",
    "version": 3
   },
   "file_extension": ".py",
   "mimetype": "text/x-python",
   "name": "python",
   "nbconvert_exporter": "python",
   "pygments_lexer": "ipython3",
   "version": "3.7.4"
  }
 },
 "nbformat": 4,
 "nbformat_minor": 2
}
